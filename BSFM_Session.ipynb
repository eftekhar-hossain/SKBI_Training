{
  "nbformat": 4,
  "nbformat_minor": 0,
  "metadata": {
    "colab": {
      "provenance": [],
      "toc_visible": true,
      "authorship_tag": "ABX9TyO/XWixqiFijYOOZ4VzrNLf",
      "include_colab_link": true
    },
    "kernelspec": {
      "name": "python3",
      "display_name": "Python 3"
    },
    "language_info": {
      "name": "python"
    }
  },
  "cells": [
    {
      "cell_type": "markdown",
      "metadata": {
        "id": "view-in-github",
        "colab_type": "text"
      },
      "source": [
        "<a href=\"https://colab.research.google.com/github/eftekhar-hossain/SKBI_Training/blob/main/BSFM_Session.ipynb\" target=\"_parent\"><img src=\"https://colab.research.google.com/assets/colab-badge.svg\" alt=\"Open In Colab\"/></a>"
      ]
    },
    {
      "cell_type": "markdown",
      "source": [
        "<figure>\n",
        "<center>\n",
        "<img src='https://media.licdn.com/dms/image/D5612AQF98axVlLMdbA/article-cover_image-shrink_720_1280/0/1688490371833?e=1714003200&v=beta&t=dWOJthC7M-cl6qfpVk-fEdjRfXKmaBs9EKglCTPX2lo'/>\n",
        "</figure>"
      ],
      "metadata": {
        "id": "GyrnTjm1nuzB"
      }
    },
    {
      "cell_type": "markdown",
      "source": [
        "# **Short Training on Machine Learning with Python** | `Feb'24`\n",
        "\n",
        "**Bangamata Sheikh Fojilatunnesa Mujib Science & Technology University**\n",
        "\n",
        "----\n",
        "\n",
        "**Organized by:** CUET IT Bussiness Incubator | **Duraion:** 2 Hours\n",
        "\n",
        "**Instructor:** <font color='green'> Eftekhar Hossain </font> | [Website](https://eftekhar-hossain.github.io/)\n",
        "\n"
      ],
      "metadata": {
        "id": "EwNHfm3guBNN"
      }
    },
    {
      "cell_type": "markdown",
      "source": [
        "#**Contents**\n",
        "\n",
        "**In this short training we will try to cover-**\n",
        "\n",
        "\n",
        "\n",
        "1.   **Introductory Python** `(~30 Minutes)`\n",
        "\n",
        "      *   Branching and Looping\n",
        "      *   List and Dictionaries\n",
        "\n",
        "2.   **Machine Learning** `(~40 Minutes)`\n",
        "\n",
        "      *   Supervised and Unsupervised Learning\n",
        "      *   Regression Algorithm\n",
        "      *   Classification Algorithm (**Project:** Handwritten Character Recognition)\n",
        "      *   Intro to Natural Language Processing (**Project:** Textual Emotion Recognition)\n",
        "\n",
        "3.   **Deep Learning**   `(~60 Minutes)`\n",
        "\n",
        "      *   Basics of Deep Neural Network\n",
        "      *   Convolutional Neural Network       \n",
        "      *   **Project :** *Plant Leaf Disease Detection (Computer Vision)*\n",
        "\n",
        "\n"
      ],
      "metadata": {
        "id": "ZVrgD_sNvw2F"
      }
    },
    {
      "cell_type": "markdown",
      "source": [
        "#**Segment 01: Introduction to Python**\n",
        "\n",
        "### Objective\n",
        "Introduce with Python\n",
        "*  Data Types and Operators\n",
        "*  Conditional Statements\n",
        "*  Looping\n",
        "*  List and Dictionaries"
      ],
      "metadata": {
        "id": "khTTkyUT3YWQ"
      }
    },
    {
      "cell_type": "markdown",
      "source": [
        "##Basic Operators"
      ],
      "metadata": {
        "id": "Hkx30m_mGh17"
      }
    },
    {
      "cell_type": "code",
      "execution_count": null,
      "metadata": {
        "id": "lYnDM2wri_rC"
      },
      "outputs": [],
      "source": [
        "print(\"Hello, world!\")\n",
        "\n",
        "print(100)"
      ]
    },
    {
      "cell_type": "markdown",
      "metadata": {
        "id": "J0x1s1e-oCIx"
      },
      "source": [
        "**Variable names and keywords**\n",
        "\n",
        "Programmers generally choose names for their variables that are meaningful and\n",
        "document what the variable is used for.\n",
        "\n",
        "Variable names can be arbitrarily long. They can contain both letters and numbers, but they cannot start with a number. It is legal to use uppercase letters, but it is a good idea to begin variable names with a lowercase letter (you’ll see why later).\n",
        "\n",
        "The underscore character **( _ )** can appear in a name. It is often used in names with multiple words, such as **`my_name`** or **`airspeed_of_unladen_swallow`**.\n",
        "\n",
        "Variable names can start with an underscore character, but we generally avoid doing this unless we are writing library code for others to use.\n",
        "If you give a variable an illegal name, you get a syntax error:"
      ]
    },
    {
      "cell_type": "code",
      "execution_count": null,
      "metadata": {
        "id": "4myWRbAvoblK"
      },
      "outputs": [],
      "source": [
        "# If you give a variable an illegal name, you get a syntax error:\n",
        "\n",
        "# Illegal variable names\n",
        "\n",
        "76trombones = 'big parade'\n",
        "more@ = 1000000\n",
        "class = 'Advanced Theoretical Zymurgy'\n",
        "\n",
        "\n",
        "# It turns out that class is one of Python’s keywords. The interpreter uses keywords\n",
        "# to recognize the structure of the program, and they cannot be used as variable\n",
        "# names."
      ]
    },
    {
      "cell_type": "markdown",
      "metadata": {
        "id": "-w3xLLw0o9T5"
      },
      "source": [
        "**Python reserves 35 keywords:**\n",
        "\n",
        "`and del from None True`\n",
        "\n",
        "`as elif global nonlocal try`\n",
        "\n",
        "`assert else if not while`\n",
        "\n",
        "`break except import or with`\n",
        "\n",
        "`class False in pass yield`\n",
        "\n",
        "`continue finally is raise async`\n",
        "\n",
        "`def for lambda return await`\n",
        "\n"
      ]
    },
    {
      "cell_type": "markdown",
      "metadata": {
        "id": "ulbz0X43ttVg"
      },
      "source": [
        "**Asking the user for input**\n",
        "\n",
        "Sometimes we would like to take the value for a variable from the user via their\n",
        "keyboard. Python provides a built-in function called **`input`** that gets input from the keyboard\n"
      ]
    },
    {
      "cell_type": "code",
      "execution_count": null,
      "metadata": {
        "id": "ZeyxcP0PuJeW"
      },
      "outputs": [],
      "source": [
        "inp = input(\"Enter a value \")\n",
        "print(inp)\n",
        "print(type(inp))"
      ]
    },
    {
      "cell_type": "markdown",
      "metadata": {
        "id": "gESC7fHijMlB"
      },
      "source": [
        "**Relational Operators**"
      ]
    },
    {
      "cell_type": "code",
      "execution_count": null,
      "metadata": {
        "id": "_8mXcsVp8OHY"
      },
      "outputs": [],
      "source": [
        "### The == operator is one of the comparison operators; the others are:\n",
        "x = y = 5\n",
        "x != y  # x is not equal to y\n",
        "x > y   # x is greater than y\n",
        "x < y # x is less than y\n",
        "x >= y # x is greater than or equal to y\n",
        "x <= y # x is less than or equal to y"
      ]
    },
    {
      "cell_type": "markdown",
      "metadata": {
        "id": "8TCqzt0S88w0"
      },
      "source": [
        "**Logical operators**\n",
        "\n",
        "There are three logical operators : **`and`**, **`or`**, and **`not`**. The semantics (meaning) of these operators is similar to their meaning in English. For example,\n",
        "\n",
        "**`x > 0 and x < 10`**\n",
        "\n",
        "is **true** only if x is greater than**` 0`** and less than **`10`**.\n",
        "\n",
        "**`n%2 == 0 or n%3 == 0 `**\n",
        "\n",
        "is **`true`** if either of the conditions is **`true`**, that is, if the\n",
        "number is divisible by 2 or 3.\n",
        "\n",
        "Finally, the **`not`** operator negates a boolean expression, so\n",
        "\n",
        "**`not (x > y) `**\n",
        "\n",
        "is **`true`** if **`x > y`** is **`false`**; that is, if x is less than or equal to y.\n"
      ]
    },
    {
      "cell_type": "code",
      "execution_count": null,
      "metadata": {
        "id": "ZJIscZAvU-2-"
      },
      "outputs": [],
      "source": [
        "# Example 3: Logical Operators in Python\n",
        "\n",
        "x = True\n",
        "y = False\n",
        "\n",
        "print('x and y is',x and y)\n",
        "\n",
        "print('x or y is',x or y)\n",
        "\n",
        "print('not x is',not x)"
      ]
    },
    {
      "cell_type": "markdown",
      "metadata": {
        "id": "CKJwwLoyVlhC"
      },
      "source": [
        "**Membership operators**\n",
        "\n",
        "**`in`** and **`not in`** are the membership operators in Python. They are used to test whether a value or variable is found in a sequence"
      ]
    },
    {
      "cell_type": "code",
      "execution_count": null,
      "metadata": {
        "id": "1CJSXRZTVrOK"
      },
      "outputs": [],
      "source": [
        "# Example 5: Membership operators in Python\n",
        "\n",
        "x = 'Hello world'\n",
        "\n",
        "# Output: True\n",
        "print('H' in x)\n",
        "\n",
        "# Output: True\n",
        "print('hello' not in x)\n"
      ]
    },
    {
      "cell_type": "markdown",
      "source": [
        "###Task\n",
        "\n",
        "`Write a python program to find the area and perimeter of a rectangle. `"
      ],
      "metadata": {
        "id": "hjzZayqJJJ63"
      }
    },
    {
      "cell_type": "code",
      "source": [
        "# Solution"
      ],
      "metadata": {
        "id": "XJ17kt-DJM7V"
      },
      "execution_count": null,
      "outputs": []
    },
    {
      "cell_type": "markdown",
      "metadata": {
        "id": "icaXARUEBBml"
      },
      "source": [
        "## **Conditional Statements**\n",
        "\n",
        "In order to write useful programs, we almost always need the ability to check conditions and change the behavior of the program accordingly. **`Conditional statements`** give us this ability. The simplest form is the if statement:"
      ]
    },
    {
      "cell_type": "code",
      "execution_count": null,
      "metadata": {
        "id": "FRnBAl8U_Eco",
        "outputId": "848da906-ba1c-487e-841e-8e56d325b51e"
      },
      "outputs": [
        {
          "name": "stdout",
          "output_type": "stream",
          "text": [
            "x is positive\n"
          ]
        }
      ],
      "source": [
        "x = 1\n",
        "if x > 0 :\n",
        "  print('x is positive')"
      ]
    },
    {
      "cell_type": "markdown",
      "metadata": {
        "id": "YdwD_ddDBgqT"
      },
      "source": [
        " **Alternative execution**\n",
        "\n",
        "A second form of the **`if`** statement is ***alternative execution***, in which there are two possibilities and the condition determines which one gets executed. The syntax looks like this:\n",
        "\n"
      ]
    },
    {
      "cell_type": "code",
      "execution_count": null,
      "metadata": {
        "id": "LN9kpfqtBwYx",
        "outputId": "162d1ebd-3698-4ec6-990c-9ea943fd6177"
      },
      "outputs": [
        {
          "name": "stdout",
          "output_type": "stream",
          "text": [
            "x is odd\n"
          ]
        }
      ],
      "source": [
        "x = 7\n",
        "if x%2 == 0:\n",
        "  print('x is even')\n",
        "else :\n",
        "  print('x is odd')"
      ]
    },
    {
      "cell_type": "markdown",
      "source": [
        "###Task\n",
        "\n",
        "\n",
        "\n",
        "```\n",
        "Write a program to check if a number is positive or\n",
        "negative or zero and display an appropriate message\n",
        "```\n",
        "\n"
      ],
      "metadata": {
        "id": "hpI8s0cVJdAP"
      }
    },
    {
      "cell_type": "code",
      "execution_count": null,
      "metadata": {
        "id": "-AD1FWh9K1mf"
      },
      "outputs": [],
      "source": [
        "# Solution\n",
        "\n",
        "\n",
        "\n"
      ]
    },
    {
      "cell_type": "markdown",
      "source": [
        "##Looping"
      ],
      "metadata": {
        "id": "5b3qgQT1KeDX"
      }
    },
    {
      "cell_type": "code",
      "source": [
        "# Syntax of for Loop\n",
        "\n",
        "'''\n",
        "for val in sequence:\n",
        "     loop body\n",
        "'''\n",
        "\n",
        "## data structure\n",
        "\n",
        "# list\n",
        "# tuple\n",
        "# dictionary"
      ],
      "metadata": {
        "id": "ku_JLkiAKgh-"
      },
      "execution_count": null,
      "outputs": []
    },
    {
      "cell_type": "code",
      "source": [
        "# Python program to illustrate\n",
        "# Iterating over the values\n",
        "\n",
        "l = [ 1,  2,  3, 5, 10]\n",
        "\n",
        "## element wise accessing\n",
        "for i in l:\n",
        "  print(i)"
      ],
      "metadata": {
        "id": "ACd8RUywLW9F"
      },
      "execution_count": null,
      "outputs": []
    },
    {
      "cell_type": "code",
      "source": [
        "# Python program to illustrate\n",
        "# Iterating over range 0 to n-1\n",
        "\n",
        "l = [ 1,  2,  3, 5, 10]\n",
        "\n",
        "## index wise accessing\n",
        "for i in range(len(l)):\n",
        "  print(l[i])"
      ],
      "metadata": {
        "id": "XcQGWTYyLJNL"
      },
      "execution_count": null,
      "outputs": []
    },
    {
      "cell_type": "markdown",
      "source": [
        "###Task\n",
        "\n",
        "`Write a Program to find the sum of all numbers stored in a list.`"
      ],
      "metadata": {
        "id": "MfacLdNxLwPn"
      }
    },
    {
      "cell_type": "code",
      "source": [
        "# Solution"
      ],
      "metadata": {
        "id": "nbuybrWuLyRr"
      },
      "execution_count": null,
      "outputs": []
    },
    {
      "cell_type": "markdown",
      "source": [
        "##List and Strings"
      ],
      "metadata": {
        "id": "A9jYARezND58"
      }
    },
    {
      "cell_type": "code",
      "source": [
        "# Create a list of characters\n",
        "\n",
        "fruit = 'banana'\n",
        "\n",
        "l = list()  # empty list\n",
        "\n",
        "for i in fruit:\n",
        "  l.append(i)\n",
        "\n",
        "print(l)"
      ],
      "metadata": {
        "colab": {
          "base_uri": "https://localhost:8080/"
        },
        "id": "q3m-g4OpNGNY",
        "outputId": "f52319c4-3567-4ab2-9493-cb707cb862d2"
      },
      "execution_count": null,
      "outputs": [
        {
          "output_type": "stream",
          "name": "stdout",
          "text": [
            "['b', 'a', 'n', 'a', 'n', 'a']\n"
          ]
        }
      ]
    },
    {
      "cell_type": "markdown",
      "source": [
        "###Task\n",
        "\n",
        " `1. Write a program to make a list of words from a sentence.`\n",
        "\n",
        " `2. Write a program to make a list of unique words from a sentence.`"
      ],
      "metadata": {
        "id": "futqYDZhNxP1"
      }
    },
    {
      "cell_type": "code",
      "source": [
        "# Solution"
      ],
      "metadata": {
        "id": "D6pBoi8mQeRJ"
      },
      "execution_count": null,
      "outputs": []
    },
    {
      "cell_type": "markdown",
      "source": [
        "##Dictionaries"
      ],
      "metadata": {
        "id": "Qlq-LEsgPbRK"
      }
    },
    {
      "cell_type": "code",
      "source": [
        "# you can create a new dictionary with three items.\n",
        "eng2sp = {'one': 'uno', 'two': 'dos', 'three': 'tres'}\n",
        "print(eng2sp)"
      ],
      "metadata": {
        "id": "kM84VevPN2AY"
      },
      "execution_count": null,
      "outputs": []
    },
    {
      "cell_type": "code",
      "source": [
        "# Add some values to the dictionary\n",
        "eng2sp[\"M\"] = \"Mercury\"\n",
        "eng2sp[\"P\"] = \"Planet\""
      ],
      "metadata": {
        "id": "psTJvEIcQj1R"
      },
      "execution_count": null,
      "outputs": []
    },
    {
      "cell_type": "markdown",
      "source": [
        "###Task\n",
        "\n",
        "`Write a program to count how many times each letter appears.`\n",
        "\n",
        "`word = brontosaurus`\n"
      ],
      "metadata": {
        "id": "Nl_MnxsDP7Iu"
      }
    },
    {
      "cell_type": "markdown",
      "source": [
        "# **Segment 02: Introduction to Machine Learning**\n",
        "\n"
      ],
      "metadata": {
        "id": "oCx_AT0bQXmh"
      }
    },
    {
      "cell_type": "markdown",
      "source": [
        "<figure>\n",
        "<center>\n",
        "<img src='https://databasetown.com/wp-content/uploads/2023/05/Supervised-Learning-1536x1090.jpg' />\n",
        "</figure>\n",
        "\n",
        "<figure>\n",
        "<center>\n",
        "<img src='https://databasetown.com/wp-content/uploads/2023/05/Unsupervised-Learning-1536x1090.jpg' />\n",
        "</figure>\n",
        "\n",
        "\n",
        "**Objectives:**\n",
        "\n",
        "*   Understand the Regression Algorithm\n",
        "*   Solve a Classification Problem\n",
        "*   Intro to Natural Language Processing\n",
        "\n",
        "\n",
        "\n",
        "\n",
        "\n",
        "<figure>\n",
        "<center>\n",
        "<img src='https://media.licdn.com/dms/image/D5612AQHleCueKC_lww/article-cover_image-shrink_720_1280/0/1677785069046?e=1714003200&v=beta&t=UE2sKKJEGIZkquuQKiXEx7Cd27PsGjeDqxic34xU8sc' />\n",
        "</figure>"
      ],
      "metadata": {
        "id": "eSsemMWuW_sB"
      }
    },
    {
      "cell_type": "markdown",
      "source": [
        "##**Linear Regression**\n"
      ],
      "metadata": {
        "id": "g-6xAM9paq9X"
      }
    },
    {
      "cell_type": "markdown",
      "source": [
        "<figure>\n",
        "<center>\n",
        "<img src='https://www.javahabit.com/resources/img/linearGraph.PNG' />\n",
        "</figure>"
      ],
      "metadata": {
        "id": "NbOpE2VIbJXH"
      }
    },
    {
      "cell_type": "markdown",
      "source": [
        "**Task:** `Develop a system for predicting the salary of an employee based on his/her experience`"
      ],
      "metadata": {
        "id": "YisDv7GGhw-t"
      }
    },
    {
      "cell_type": "markdown",
      "metadata": {
        "id": "KjNpONjqiK0f"
      },
      "source": [
        "###Dataset"
      ]
    },
    {
      "cell_type": "code",
      "metadata": {
        "id": "-l8pYv-dhhk9"
      },
      "source": [
        "# Download the data\n",
        "!wget -O Salary_Data.csv https://www.dropbox.com/s/qq08pgcg9vbbztr/Salary_Data.csv?dl=0"
      ],
      "execution_count": null,
      "outputs": []
    },
    {
      "cell_type": "code",
      "metadata": {
        "id": "pAob0RHGiRjq"
      },
      "source": [
        "\"\"\"importing the dataset \"\"\"\n",
        "\n",
        "import pandas as pd\n",
        "\n",
        "dataset = pd.read_csv('Salary_Data.csv')\n",
        "dataset.head(5)"
      ],
      "execution_count": null,
      "outputs": []
    },
    {
      "cell_type": "code",
      "source": [
        "len(dataset)"
      ],
      "metadata": {
        "id": "FGo0GgYjMwyN"
      },
      "execution_count": null,
      "outputs": []
    },
    {
      "cell_type": "code",
      "metadata": {
        "id": "ki4sp9QwiuEz"
      },
      "source": [
        "# independent variable  or input feature\n",
        "feature = dataset[['YearsExperience']]\n",
        "\n",
        "# dependent variable or output\n",
        "target = dataset[['Salary']]"
      ],
      "execution_count": null,
      "outputs": []
    },
    {
      "cell_type": "code",
      "metadata": {
        "id": "4pOhP_o4jKsy"
      },
      "source": [
        "feature"
      ],
      "execution_count": null,
      "outputs": []
    },
    {
      "cell_type": "code",
      "metadata": {
        "id": "vZsulkurjM-H"
      },
      "source": [
        "target"
      ],
      "execution_count": null,
      "outputs": []
    },
    {
      "cell_type": "markdown",
      "source": [
        "<figure>\n",
        "<center>\n",
        "<img src='https://www.analyticsvidhya.com/wp-content/uploads/2015/01/scikit-learn-logo.png' />\n",
        "</figure>"
      ],
      "metadata": {
        "id": "B-cwdy4bcAsM"
      }
    },
    {
      "cell_type": "markdown",
      "metadata": {
        "id": "azmcrMicoru3"
      },
      "source": [
        "###Splitting the Dataset"
      ]
    },
    {
      "cell_type": "code",
      "metadata": {
        "id": "Q8l1QMbuo0fq"
      },
      "source": [
        "from sklearn.model_selection import train_test_split"
      ],
      "execution_count": null,
      "outputs": []
    },
    {
      "cell_type": "code",
      "metadata": {
        "id": "QLjV41K_oxSg"
      },
      "source": [
        "\"\"\"Spliting the Dataset into Training Set and Test Set \"\"\"\n",
        "\n",
        "X_train,X_test,y_train,y_test=train_test_split(feature,target,test_size = 0.2,random_state = 0)\n",
        "# random_state = 0 is select to get the same result"
      ],
      "execution_count": null,
      "outputs": []
    },
    {
      "cell_type": "code",
      "source": [
        "X_train.values"
      ],
      "metadata": {
        "id": "Ot74ng44NmTR"
      },
      "execution_count": null,
      "outputs": []
    },
    {
      "cell_type": "code",
      "metadata": {
        "id": "YDzGdXXrpBlc"
      },
      "source": [
        "print(\"Training Set Size:\", X_train.shape)\n",
        "print(\"Test Set Size:\", X_test.shape)"
      ],
      "execution_count": null,
      "outputs": []
    },
    {
      "cell_type": "code",
      "metadata": {
        "id": "kZJyLGIxInsG"
      },
      "source": [
        "X_test"
      ],
      "execution_count": null,
      "outputs": []
    },
    {
      "cell_type": "markdown",
      "source": [
        "###Model Building"
      ],
      "metadata": {
        "id": "qjwxR3nvdrB4"
      }
    },
    {
      "cell_type": "code",
      "metadata": {
        "id": "KZWjA9QSpJTJ"
      },
      "source": [
        "# Fitting a simple linear regression to Training Set\n",
        "from sklearn.linear_model import LinearRegression\n",
        "\n",
        "\n",
        "regressor = LinearRegression()\n",
        "\n",
        "# fit the regressor on training dataset\n",
        "regressor.fit(X_train,y_train)"
      ],
      "execution_count": null,
      "outputs": []
    },
    {
      "cell_type": "code",
      "metadata": {
        "id": "1axxobG26yVJ"
      },
      "source": [
        "# predicting the Test set Results\n",
        "y_pred = regressor.predict(X_test)\n",
        "y_pred"
      ],
      "execution_count": null,
      "outputs": []
    },
    {
      "cell_type": "code",
      "source": [
        "y_test"
      ],
      "metadata": {
        "id": "GzAe_Q-2hyEI"
      },
      "execution_count": null,
      "outputs": []
    },
    {
      "cell_type": "code",
      "source": [
        "# Visualization the training Set Results\n",
        "import matplotlib.pyplot as plt\n",
        "\n",
        "\n",
        "plt.scatter(X_train, y_train, color = 'red')\n",
        "# this line is for the regressor line\n",
        "plt.plot(X_train,regressor.predict(X_train), color = 'blue')\n",
        "plt.title('Salary vs Experience(Training Set Result)')\n",
        "plt.xlabel('Years of Experince')\n",
        "plt.ylabel('Salary')\n",
        "plt.show()\n"
      ],
      "metadata": {
        "id": "V7p5r58idRx5"
      },
      "execution_count": null,
      "outputs": []
    },
    {
      "cell_type": "code",
      "source": [
        "# Predict the salary of a person\n",
        "regressor.predict([[10.4]])"
      ],
      "metadata": {
        "id": "A6D3smVCdhn1"
      },
      "execution_count": null,
      "outputs": []
    },
    {
      "cell_type": "markdown",
      "source": [
        "## **Classification (Support Vector Machine)**\n",
        "----\n",
        "<figure>\n",
        "<center>\n",
        "<img src='https://copyassignment.com/wp-content/uploads/2022/08/Category-B.png' />\n",
        "</figure>"
      ],
      "metadata": {
        "id": "TNdPj6COhiP1"
      }
    },
    {
      "cell_type": "markdown",
      "source": [
        "**Task:** `Develop a Handwritten Digit Recognition System.`"
      ],
      "metadata": {
        "id": "_b5Fi1tch5_6"
      }
    },
    {
      "cell_type": "markdown",
      "metadata": {
        "id": "ACPzUHjSiCsH"
      },
      "source": [
        "### Libraries"
      ]
    },
    {
      "cell_type": "code",
      "metadata": {
        "id": "O_zWgw13iDPA"
      },
      "source": [
        "# Handling Warnings\n",
        "import warnings\n",
        "warnings.filterwarnings(\"ignore\")\n",
        "\n",
        "import numpy as np\n",
        "import pandas as pd\n",
        "import matplotlib.pyplot as plt\n",
        "\n",
        "# Machine learning libraries\n",
        "from sklearn.model_selection import train_test_split\n",
        "from sklearn.metrics import classification_report,confusion_matrix,accuracy_score,f1_score,precision_score,recall_score\n",
        "from sklearn.preprocessing import MinMaxScaler\n",
        "from sklearn import svm"
      ],
      "execution_count": null,
      "outputs": []
    },
    {
      "cell_type": "markdown",
      "metadata": {
        "id": "EiSd1fUWjCAY"
      },
      "source": [
        "###Handwritten Character Dataset"
      ]
    },
    {
      "cell_type": "code",
      "metadata": {
        "id": "lTSteLbljCAY"
      },
      "source": [
        "# Download the train data\n",
        "!wget -O mnist_train.csv https://www.dropbox.com/s/yrqwhkqj8914h9l/mnist_train.csv?dl=0"
      ],
      "execution_count": null,
      "outputs": []
    },
    {
      "cell_type": "code",
      "source": [
        "# Download the test data\n",
        "!wget -O mnist_test.csv https://www.dropbox.com/s/3c02b49hcze40i6/mnist_test.csv?dl=0"
      ],
      "metadata": {
        "id": "V_tenkhiD8FJ"
      },
      "execution_count": null,
      "outputs": []
    },
    {
      "cell_type": "code",
      "metadata": {
        "id": "rORz2ukZjCAY"
      },
      "source": [
        "\"\"\"importing the dataset \"\"\"\n",
        "\n",
        "train_data = pd.read_csv('mnist_train.csv')\n",
        "test_data = pd.read_csv('mnist_test.csv')\n",
        "\n",
        "# print first five row\n",
        "train_data.head()"
      ],
      "execution_count": null,
      "outputs": []
    },
    {
      "cell_type": "code",
      "source": [
        "# drop the first column\n",
        "train_images = train_data.iloc[:,1:]\n",
        "train_labels = train_data.iloc[:,0:1]\n",
        "train_labels\n",
        "\n",
        "#train_images"
      ],
      "metadata": {
        "id": "ZAkBG7RhEh6E"
      },
      "execution_count": null,
      "outputs": []
    },
    {
      "cell_type": "code",
      "source": [
        "# count the labels distribution\n",
        "train_labels.value_counts()"
      ],
      "metadata": {
        "id": "WdIXsVGTHUhT"
      },
      "execution_count": null,
      "outputs": []
    },
    {
      "cell_type": "code",
      "source": [
        "# drop the first column\n",
        "test_images = test_data.iloc[:,1:]\n",
        "test_labels = test_data.iloc[:,0:1]\n",
        "test_labels\n",
        "\n",
        "#test_images"
      ],
      "metadata": {
        "id": "Z9Y9U7D9GAga"
      },
      "execution_count": null,
      "outputs": []
    },
    {
      "cell_type": "code",
      "source": [
        "print(\"Training Set: \",train_images.shape)\n",
        "print(\"Test Set: \", test_images.shape)"
      ],
      "metadata": {
        "colab": {
          "base_uri": "https://localhost:8080/"
        },
        "id": "vHoSUwMGF4ps",
        "outputId": "ae7d07df-a3fb-478b-ea09-f6ba9f9f2580"
      },
      "execution_count": null,
      "outputs": [
        {
          "output_type": "stream",
          "name": "stdout",
          "text": [
            "Training Set:  (60000, 784)\n",
            "Test Set:  (10000, 784)\n"
          ]
        }
      ]
    },
    {
      "cell_type": "code",
      "metadata": {
        "id": "qLN1GboXjCAZ"
      },
      "source": [
        "# Plotting some digits\n",
        "\n",
        "plt.figure(figsize=(14,12))\n",
        "for digit_num in range(0,30):\n",
        "    plt.subplot(7,10,digit_num+1)\n",
        "    grid_data = train_images.iloc[digit_num].values.reshape(28,28)  # reshape from 1d to 2d pixel array\n",
        "    plt.imshow(grid_data)\n",
        "    plt.title(f\"{train_labels.iloc[digit_num].values}\")\n",
        "    plt.xticks([])\n",
        "    plt.yticks([])\n",
        "plt.tight_layout()"
      ],
      "execution_count": null,
      "outputs": []
    },
    {
      "cell_type": "code",
      "source": [
        "# Split the dataset. As the dataset is very large I have used only the test dataset.\n",
        "\n",
        "X_train,X_test,y_train,y_test = train_test_split(test_images,test_labels,test_size = 0.25,random_state = 0)\n",
        "print(\"Training Set: \",X_train.shape)\n",
        "print(\"Test Set: \", X_test.shape)"
      ],
      "metadata": {
        "colab": {
          "base_uri": "https://localhost:8080/"
        },
        "id": "1MaSzUWBWkiO",
        "outputId": "f11cd72c-b520-43d8-f12c-09f19187955d"
      },
      "execution_count": null,
      "outputs": [
        {
          "output_type": "stream",
          "name": "stdout",
          "text": [
            "Training Set:  (7500, 784)\n",
            "Test Set:  (2500, 784)\n"
          ]
        }
      ]
    },
    {
      "cell_type": "code",
      "source": [
        "class_names = np.unique(train_labels).tolist()"
      ],
      "metadata": {
        "id": "v_AuqD-sYZXs"
      },
      "execution_count": null,
      "outputs": []
    },
    {
      "cell_type": "code",
      "metadata": {
        "id": "fZm-W1QXjCAZ"
      },
      "source": [
        "# Normalizing data .. Normilization was found better in this dataset than Standardization\n",
        "# Normilization between (0, 1) was tested vs (-1, 1) and (-1, 1) showed better results\n",
        "\n",
        "scaler = MinMaxScaler(feature_range=(-1, 1))\n",
        "scaler.fit(X_train)\n",
        "normalized_X_train = scaler.transform(X_train)\n",
        "normalized_X_test = scaler.transform(X_test)"
      ],
      "execution_count": null,
      "outputs": []
    },
    {
      "cell_type": "markdown",
      "source": [
        "###Model Building"
      ],
      "metadata": {
        "id": "43QIfB26lCLi"
      }
    },
    {
      "cell_type": "code",
      "metadata": {
        "id": "fnKw3FBtjCAZ"
      },
      "source": [
        "# Trainging the SVC model with gamma and C found in previous step\n",
        "# gamma=0.00728932024638, C=2.82842712475\n",
        "\n",
        "classifier = svm.SVC()\n",
        "classifier.fit(normalized_X_train, y_train)\n",
        "\n",
        "# Calculating the training accuracy (to measure the bias)\n",
        "train_accuracy = classifier.score(normalized_X_train, y_train)\n",
        "print (f\"Training Accuracy: {train_accuracy*100:.3f}%\")\n",
        "\n"
      ],
      "execution_count": null,
      "outputs": []
    },
    {
      "cell_type": "code",
      "source": [
        "# Getting predictions\n",
        "predictions = classifier.predict(normalized_X_test)"
      ],
      "metadata": {
        "id": "6H19MOdBN9fz"
      },
      "execution_count": null,
      "outputs": []
    },
    {
      "cell_type": "markdown",
      "source": [
        "<figure>\n",
        "<center>\n",
        "<img src='https://assets-global.website-files.com/6266b596eef18c1931f938f9/644aebcf328799695accaecb_class_guide_cm09.png' />\n",
        "<figcaption> Confusion Matrix (Binary Classification)</figcaption></center>\n",
        "</figure>\n"
      ],
      "metadata": {
        "id": "87CsCJ35i7Y7"
      }
    },
    {
      "cell_type": "code",
      "metadata": {
        "id": "xH5NbUcnPQhD"
      },
      "source": [
        "# Making confusing matrix (actual,prediction)\n",
        "\n",
        "confusion_matrix(y_test,predictions)"
      ],
      "execution_count": null,
      "outputs": []
    },
    {
      "cell_type": "code",
      "metadata": {
        "id": "jptr8B6qO2bY"
      },
      "source": [
        "# it is used to check the accuracy of the classification\n",
        "print(classification_report(y_test,predictions))"
      ],
      "execution_count": null,
      "outputs": []
    },
    {
      "cell_type": "markdown",
      "source": [
        "### Correct Predictions"
      ],
      "metadata": {
        "id": "0IlAy6iDY-Yz"
      }
    },
    {
      "cell_type": "code",
      "source": [
        "# Plotting some digits\n",
        "\n",
        "plt.figure(figsize=(14,12))\n",
        "for digit_num in range(0,30):\n",
        "    plt.subplot(7,10,digit_num+1)\n",
        "    grid_data = X_test.iloc[digit_num].values.reshape(28,28)  # reshape from 1d to 2d pixel array\n",
        "    plt.imshow(grid_data)\n",
        "    plt.title(f\"Predicted= {predictions[digit_num]}\")\n",
        "    plt.xticks([])\n",
        "    plt.yticks([])\n",
        "plt.tight_layout()"
      ],
      "metadata": {
        "id": "WIFcnnNgZAPl"
      },
      "execution_count": null,
      "outputs": []
    },
    {
      "cell_type": "markdown",
      "source": [
        "### Misclassified Samples"
      ],
      "metadata": {
        "id": "4r8HOdNVee3T"
      }
    },
    {
      "cell_type": "code",
      "source": [
        "# add the predicted result into the y_test column\n",
        "y_test['predicted'] = predictions\n",
        "y_test"
      ],
      "metadata": {
        "id": "GA0M_PJ0c3Px"
      },
      "execution_count": null,
      "outputs": []
    },
    {
      "cell_type": "code",
      "source": [
        "index = y_test.index.tolist()\n",
        "\n",
        "# find the mis classified image indexes\n",
        "\n",
        "mis_clas = list()\n",
        "\n",
        "for i in index:\n",
        "  if y_test['label'][i] != y_test['predicted'][i]:\n",
        "    mis_clas.append(i)\n",
        "mis_clas"
      ],
      "metadata": {
        "id": "21XA80I4dfoD"
      },
      "execution_count": null,
      "outputs": []
    },
    {
      "cell_type": "code",
      "source": [
        "# Plotting some misclassified digits\n",
        "plt.figure(figsize=(14,12))\n",
        "for i,img in enumerate(mis_clas[0:21]):\n",
        "    plt.subplot(7,10,i+1)\n",
        "    grid_data = X_test.loc[img].values.reshape(28,28)  # reshape from 1d to 2d pixel array\n",
        "    plt.imshow(grid_data)\n",
        "    plt.title(f\"Predicted= {y_test['predicted'].loc[img]}\")\n",
        "    plt.xticks([])\n",
        "    plt.yticks([])\n",
        "plt.tight_layout()\n"
      ],
      "metadata": {
        "id": "LUpj5n6iehle"
      },
      "execution_count": null,
      "outputs": []
    },
    {
      "cell_type": "markdown",
      "source": [
        "### Task\n",
        "\n",
        "**Bangla Handwritten Character Dataset**\n",
        "\n"
      ],
      "metadata": {
        "id": "aKhid-TMLFti"
      }
    },
    {
      "cell_type": "markdown",
      "source": [
        "**Ekush: A Multipurpose and Multitype Comprehensive Database for Online Off-line Bangla Handwritten Characters. Ekush has several features:**\n",
        "\n",
        " - Characters Recognition\n",
        " - Recognition in context\n",
        " - Gender Identification\n",
        " - Forensic Investigation\n",
        " - 673,482‬ character instances\n",
        " - 242 character class\n",
        " - 4 captions per image\n",
        " - 340,243‬ Female data\n",
        " - 333,239‬ Male data"
      ],
      "metadata": {
        "id": "M5XBRnTjLUgF"
      }
    },
    {
      "cell_type": "code",
      "source": [
        "# run the cell to download the data\n",
        "!wget -O ekush.zip https://www.dropbox.com/s/sym70dkootl09va/ekushCSV.zip?dl=0\n"
      ],
      "metadata": {
        "id": "nUw3FXa2GscN"
      },
      "execution_count": null,
      "outputs": []
    },
    {
      "cell_type": "code",
      "source": [
        "# extract the zip file and save the files into bangla-digit folder\n",
        "import zipfile\n",
        "zip_ref = zipfile.ZipFile(\"ekush.zip\", 'r')\n",
        "zip_ref.extractall(\"bangla-digit\")\n",
        "zip_ref.close()"
      ],
      "metadata": {
        "id": "BecK6hpVKYBr"
      },
      "execution_count": null,
      "outputs": []
    },
    {
      "cell_type": "markdown",
      "source": [
        "##**Natural Language Processing**\n",
        "\n"
      ],
      "metadata": {
        "id": "z7hRsG0tkt9v"
      }
    },
    {
      "cell_type": "markdown",
      "source": [
        "<figure>\n",
        "<center>\n",
        "<img src='https://www.xenonstack.com/hubfs/nlp-applications.png' />\n",
        "</figure>"
      ],
      "metadata": {
        "id": "ZVzZnmB1H34J"
      }
    },
    {
      "cell_type": "markdown",
      "source": [
        "**Task:** `Develop a Textual Emotion Recognition System.`   আজ আমি অনেক খুশি  কারন আজকে আমি জিতসি\n",
        "\n",
        "<figure>\n",
        "<center>\n",
        "<img src='https://qph.cf2.quoracdn.net/main-qimg-fc15b52fd173f88bd78722c1dae44f9b-pjlq' />\n",
        "</figure>"
      ],
      "metadata": {
        "id": "IrOFfCDGodDT"
      }
    },
    {
      "cell_type": "code",
      "metadata": {
        "id": "sPReq49vIFoB"
      },
      "source": [
        "!pip install Scikit-learn==1.2.1"
      ],
      "execution_count": null,
      "outputs": []
    },
    {
      "cell_type": "code",
      "metadata": {
        "colab": {
          "base_uri": "https://localhost:8080/"
        },
        "id": "eGAsM3WVufhf",
        "outputId": "4a4ed5da-8bdf-4a4d-8f6c-c0057e2c1406"
      },
      "source": [
        "import sklearn\n",
        "print(sklearn.__version__)"
      ],
      "execution_count": null,
      "outputs": [
        {
          "output_type": "stream",
          "name": "stdout",
          "text": [
            "1.2.1\n"
          ]
        }
      ]
    },
    {
      "cell_type": "markdown",
      "source": [
        "###Libraries"
      ],
      "metadata": {
        "id": "d3nM8Zw3nNEQ"
      }
    },
    {
      "cell_type": "code",
      "metadata": {
        "id": "SHmWo5hOJ5uf",
        "colab": {
          "base_uri": "https://localhost:8080/"
        },
        "outputId": "f507eef5-ad5e-4250-cd05-b685dd318fad"
      },
      "source": [
        "%%time\n",
        "# Handling Warnings\n",
        "import warnings\n",
        "warnings.filterwarnings(\"ignore\")\n",
        "\n",
        "import numpy as np\n",
        "import matplotlib.pyplot as plt\n",
        "%matplotlib inline\n",
        "import pandas as pd\n",
        "import seaborn as sns\n",
        "import re\n",
        "from sklearn.metrics import confusion_matrix\n",
        "from sklearn.metrics import classification_report\n",
        "from sklearn.model_selection import train_test_split\n",
        "from sklearn.linear_model import LogisticRegression, LogisticRegressionCV\n",
        "from sklearn.metrics import accuracy_score,precision_score,recall_score,f1_score,roc_auc_score\n",
        "from sklearn.feature_extraction.text import TfidfVectorizer, CountVectorizer, TfidfTransformer\n",
        "np.random.seed(42)"
      ],
      "execution_count": null,
      "outputs": [
        {
          "output_type": "stream",
          "name": "stdout",
          "text": [
            "CPU times: user 1.23 ms, sys: 0 ns, total: 1.23 ms\n",
            "Wall time: 6.83 ms\n"
          ]
        }
      ]
    },
    {
      "cell_type": "markdown",
      "source": [
        "###Dataset"
      ],
      "metadata": {
        "id": "6ZVXBeDRcwyP"
      }
    },
    {
      "cell_type": "code",
      "source": [
        "# Download the data\n",
        "!wget -O Emotion.csv https://www.dropbox.com/s/pjzwlxbmm7sq4sf/emotion.csv?dl=0"
      ],
      "metadata": {
        "id": "s29i8Rfip16H"
      },
      "execution_count": null,
      "outputs": []
    },
    {
      "cell_type": "code",
      "metadata": {
        "id": "UOxBw-ZMKjoH"
      },
      "source": [
        "# %%time\n",
        "data = pd.read_csv(\"Emotion.csv\")\n",
        "data = data.dropna()"
      ],
      "execution_count": null,
      "outputs": []
    },
    {
      "cell_type": "code",
      "source": [
        "data.head()"
      ],
      "metadata": {
        "id": "65Dy11PKqBrj"
      },
      "execution_count": null,
      "outputs": []
    },
    {
      "cell_type": "code",
      "metadata": {
        "colab": {
          "base_uri": "https://localhost:8080/"
        },
        "id": "6YJjERczKoWI",
        "outputId": "b5994393-9489-4d5a-b5ff-204655bbe655"
      },
      "source": [
        "print(\"Size of the total data==> \", len(data))\n",
        "class_names= data.classes.unique() ## Get the unique values in a specific column\n",
        "print(class_names)"
      ],
      "execution_count": null,
      "outputs": [
        {
          "output_type": "stream",
          "name": "stdout",
          "text": [
            "Size of the total data==>  29290\n",
            "['joy' 'sadness' 'surprise' 'disgust' 'anger' 'fear']\n"
          ]
        }
      ]
    },
    {
      "cell_type": "code",
      "source": [
        "data['training_label']=data.classes.replace({'joy':0,'sadness':1,'surprise':2,'disgust':3,'anger':4,'fear':5})\n",
        "data.head(10)"
      ],
      "metadata": {
        "id": "HoVWFin_qIQW"
      },
      "execution_count": null,
      "outputs": []
    },
    {
      "cell_type": "markdown",
      "source": [
        "###Text Cleaning\n",
        "\n",
        "Remove unncessary symbol"
      ],
      "metadata": {
        "id": "0BfzRNosvQMh"
      }
    },
    {
      "cell_type": "code",
      "source": [
        "%%time\n",
        "# text cleaning\n",
        "\n",
        "def cleaning_bangla(x):\n",
        "  x = re.sub('[^\\u0980-\\u09FF]',' ', x)\n",
        "  # Remove quotes from source text\n",
        "  x = re.sub(\"'\", '', x)\n",
        "  # create a set of all special characters\n",
        "  x = x.strip()\n",
        "  return x\n",
        "\n",
        "data['cleaned'] = data['TEXT'].apply(cleaning_bangla)\n",
        "data.head(10)"
      ],
      "metadata": {
        "id": "LZ4lbYPsqRNz"
      },
      "execution_count": null,
      "outputs": []
    },
    {
      "cell_type": "markdown",
      "source": [
        "###Text Feature Extraction Techniques"
      ],
      "metadata": {
        "id": "7xIXfM3SvaYl"
      }
    },
    {
      "cell_type": "markdown",
      "source": [
        "\n",
        "\n",
        "<figure>\n",
        "<center>\n",
        "<img src='https://mlwhiz.com/images/countvectorizer.png'/>\n",
        "<figcaption> Count Vectorizer</figcaption></center>\n",
        "</figure>\n",
        "\n",
        "\n",
        "\n",
        "---\n",
        "\n",
        "<figure>\n",
        "<center>\n",
        "<img src='https://mlwhiz.com/images/tfidf.png'/>\n",
        "<figcaption> TF-IDF Vectorizer</figcaption></center>\n",
        "</figure>"
      ],
      "metadata": {
        "id": "-T4FgXhoquKV"
      }
    },
    {
      "cell_type": "markdown",
      "metadata": {
        "id": "xdopuw5_PZr0"
      },
      "source": [
        "####Visualize tf-idf and count vectorizer"
      ]
    },
    {
      "cell_type": "code",
      "metadata": {
        "id": "ho019TkINLFq"
      },
      "source": [
        "#Here first parameter is the number of documents and second parameter is the number of features\n",
        "for i in range(5):\n",
        "  print(data.cleaned[i])\n"
      ],
      "execution_count": null,
      "outputs": []
    },
    {
      "cell_type": "code",
      "metadata": {
        "id": "NyyH_p-xPZKF"
      },
      "source": [
        "tf_idf = TfidfVectorizer(ngram_range=(1,1), min_df=1, tokenizer=lambda x: x.split(),  use_idf = True)\n",
        "tf_corpus = tf_idf.fit_transform(data.cleaned[:5])\n",
        "cv = CountVectorizer(ngram_range=(1,1), min_df=1, tokenizer=lambda x: x.split())\n",
        "cv_corpus = cv.fit_transform(data.cleaned[:5])"
      ],
      "execution_count": null,
      "outputs": []
    },
    {
      "cell_type": "code",
      "source": [
        "print(tf_corpus.shape, cv_corpus.shape)\n",
        "print(tf_idf.vocabulary_) ## Returns the vocabulary with index\n",
        "# print(cv.vocabulary_)\n",
        "print(tf_idf.get_feature_names_out()) ## Return the feature words\n",
        "# print(cv.get_feature_names_out())\n"
      ],
      "metadata": {
        "id": "ezGItIKYtyan"
      },
      "execution_count": null,
      "outputs": []
    },
    {
      "cell_type": "code",
      "metadata": {
        "id": "IYmvm4r6PmAL"
      },
      "source": [
        "# Convert sparse matrix to dataframe\n",
        "tf_corpus = pd.DataFrame.sparse.from_spmatrix(tf_corpus)\n",
        "# Save mapping on which index refers to which words\n",
        "col_map = {v:k for k, v in tf_idf.vocabulary_.items()}\n",
        "# Rename each column using the mapping\n",
        "for col in tf_corpus.columns:\n",
        "    tf_corpus.rename(columns={col: col_map[col]}, inplace=True)\n",
        "tf_corpus"
      ],
      "execution_count": null,
      "outputs": []
    },
    {
      "cell_type": "code",
      "metadata": {
        "id": "nHCVjLVZPtXi"
      },
      "source": [
        "# Convert sparse matrix to dataframe\n",
        "cv_corpus = pd.DataFrame.sparse.from_spmatrix(cv_corpus)\n",
        "# Save mapping on which index refers to which words\n",
        "col_map = {v:k for k, v in cv.vocabulary_.items()}\n",
        "# Rename each column using the mapping\n",
        "for col in cv_corpus.columns:\n",
        "    cv_corpus.rename(columns={col: col_map[col]}, inplace=True)\n",
        "cv_corpus"
      ],
      "execution_count": null,
      "outputs": []
    },
    {
      "cell_type": "markdown",
      "source": [
        "###Splitting the Dataset"
      ],
      "metadata": {
        "id": "R1bCiJjUutuV"
      }
    },
    {
      "cell_type": "code",
      "metadata": {
        "id": "76wX5oKXJWJj"
      },
      "source": [
        "corpus, labels = data.cleaned, data.training_label"
      ],
      "execution_count": null,
      "outputs": []
    },
    {
      "cell_type": "code",
      "metadata": {
        "id": "A0tiRuVAJKE_"
      },
      "source": [
        "X_train, X_test, y_train, y_test = train_test_split(corpus,labels,train_size = 0.8, test_size = 0.2,random_state =0)"
      ],
      "execution_count": null,
      "outputs": []
    },
    {
      "cell_type": "markdown",
      "source": [
        "###Model Building"
      ],
      "metadata": {
        "id": "NpEJIK802nIG"
      }
    },
    {
      "cell_type": "markdown",
      "source": [
        "<figure>\n",
        "<center>\n",
        "<img src='https://www.natasshaselvaraj.com/content/images/size/w2000/2022/11/Picture2-1.png'/>\n",
        "<figcaption> Logistic Regression </figcaption></center>\n",
        "</figure>"
      ],
      "metadata": {
        "id": "Mw7QSOFQjx7H"
      }
    },
    {
      "cell_type": "code",
      "metadata": {
        "id": "RPgCxUqL3UzI",
        "colab": {
          "base_uri": "https://localhost:8080/",
          "height": 160
        },
        "outputId": "a986c901-f755-4f0c-927f-0265ef1e107a"
      },
      "source": [
        "%%time\n",
        "from sklearn.pipeline import Pipeline, make_pipeline\n",
        "vec = CountVectorizer(tokenizer=lambda x: x.split())\n",
        "# clf = TfidfVectorizer(ngram_range=(1,1), min_df=1, tokenizer=lambda x: x.split(), use_idf=True)\n",
        "clf = LogisticRegressionCV()\n",
        "pipe = make_pipeline(vec,clf)\n",
        "pipe.fit(X_train, y_train)"
      ],
      "execution_count": null,
      "outputs": [
        {
          "output_type": "stream",
          "name": "stdout",
          "text": [
            "CPU times: user 5min 3s, sys: 5min 50s, total: 10min 54s\n",
            "Wall time: 6min 37s\n"
          ]
        },
        {
          "output_type": "execute_result",
          "data": {
            "text/plain": [
              "Pipeline(steps=[('countvectorizer',\n",
              "                 CountVectorizer(tokenizer=<function <lambda> at 0x781dfabfb640>)),\n",
              "                ('logisticregressioncv', LogisticRegressionCV())])"
            ],
            "text/html": [
              "<style>#sk-container-id-1 {color: black;background-color: white;}#sk-container-id-1 pre{padding: 0;}#sk-container-id-1 div.sk-toggleable {background-color: white;}#sk-container-id-1 label.sk-toggleable__label {cursor: pointer;display: block;width: 100%;margin-bottom: 0;padding: 0.3em;box-sizing: border-box;text-align: center;}#sk-container-id-1 label.sk-toggleable__label-arrow:before {content: \"▸\";float: left;margin-right: 0.25em;color: #696969;}#sk-container-id-1 label.sk-toggleable__label-arrow:hover:before {color: black;}#sk-container-id-1 div.sk-estimator:hover label.sk-toggleable__label-arrow:before {color: black;}#sk-container-id-1 div.sk-toggleable__content {max-height: 0;max-width: 0;overflow: hidden;text-align: left;background-color: #f0f8ff;}#sk-container-id-1 div.sk-toggleable__content pre {margin: 0.2em;color: black;border-radius: 0.25em;background-color: #f0f8ff;}#sk-container-id-1 input.sk-toggleable__control:checked~div.sk-toggleable__content {max-height: 200px;max-width: 100%;overflow: auto;}#sk-container-id-1 input.sk-toggleable__control:checked~label.sk-toggleable__label-arrow:before {content: \"▾\";}#sk-container-id-1 div.sk-estimator input.sk-toggleable__control:checked~label.sk-toggleable__label {background-color: #d4ebff;}#sk-container-id-1 div.sk-label input.sk-toggleable__control:checked~label.sk-toggleable__label {background-color: #d4ebff;}#sk-container-id-1 input.sk-hidden--visually {border: 0;clip: rect(1px 1px 1px 1px);clip: rect(1px, 1px, 1px, 1px);height: 1px;margin: -1px;overflow: hidden;padding: 0;position: absolute;width: 1px;}#sk-container-id-1 div.sk-estimator {font-family: monospace;background-color: #f0f8ff;border: 1px dotted black;border-radius: 0.25em;box-sizing: border-box;margin-bottom: 0.5em;}#sk-container-id-1 div.sk-estimator:hover {background-color: #d4ebff;}#sk-container-id-1 div.sk-parallel-item::after {content: \"\";width: 100%;border-bottom: 1px solid gray;flex-grow: 1;}#sk-container-id-1 div.sk-label:hover label.sk-toggleable__label {background-color: #d4ebff;}#sk-container-id-1 div.sk-serial::before {content: \"\";position: absolute;border-left: 1px solid gray;box-sizing: border-box;top: 0;bottom: 0;left: 50%;z-index: 0;}#sk-container-id-1 div.sk-serial {display: flex;flex-direction: column;align-items: center;background-color: white;padding-right: 0.2em;padding-left: 0.2em;position: relative;}#sk-container-id-1 div.sk-item {position: relative;z-index: 1;}#sk-container-id-1 div.sk-parallel {display: flex;align-items: stretch;justify-content: center;background-color: white;position: relative;}#sk-container-id-1 div.sk-item::before, #sk-container-id-1 div.sk-parallel-item::before {content: \"\";position: absolute;border-left: 1px solid gray;box-sizing: border-box;top: 0;bottom: 0;left: 50%;z-index: -1;}#sk-container-id-1 div.sk-parallel-item {display: flex;flex-direction: column;z-index: 1;position: relative;background-color: white;}#sk-container-id-1 div.sk-parallel-item:first-child::after {align-self: flex-end;width: 50%;}#sk-container-id-1 div.sk-parallel-item:last-child::after {align-self: flex-start;width: 50%;}#sk-container-id-1 div.sk-parallel-item:only-child::after {width: 0;}#sk-container-id-1 div.sk-dashed-wrapped {border: 1px dashed gray;margin: 0 0.4em 0.5em 0.4em;box-sizing: border-box;padding-bottom: 0.4em;background-color: white;}#sk-container-id-1 div.sk-label label {font-family: monospace;font-weight: bold;display: inline-block;line-height: 1.2em;}#sk-container-id-1 div.sk-label-container {text-align: center;}#sk-container-id-1 div.sk-container {/* jupyter's `normalize.less` sets `[hidden] { display: none; }` but bootstrap.min.css set `[hidden] { display: none !important; }` so we also need the `!important` here to be able to override the default hidden behavior on the sphinx rendered scikit-learn.org. See: https://github.com/scikit-learn/scikit-learn/issues/21755 */display: inline-block !important;position: relative;}#sk-container-id-1 div.sk-text-repr-fallback {display: none;}</style><div id=\"sk-container-id-1\" class=\"sk-top-container\"><div class=\"sk-text-repr-fallback\"><pre>Pipeline(steps=[(&#x27;countvectorizer&#x27;,\n",
              "                 CountVectorizer(tokenizer=&lt;function &lt;lambda&gt; at 0x781dfabfb640&gt;)),\n",
              "                (&#x27;logisticregressioncv&#x27;, LogisticRegressionCV())])</pre><b>In a Jupyter environment, please rerun this cell to show the HTML representation or trust the notebook. <br />On GitHub, the HTML representation is unable to render, please try loading this page with nbviewer.org.</b></div><div class=\"sk-container\" hidden><div class=\"sk-item sk-dashed-wrapped\"><div class=\"sk-label-container\"><div class=\"sk-label sk-toggleable\"><input class=\"sk-toggleable__control sk-hidden--visually\" id=\"sk-estimator-id-1\" type=\"checkbox\" ><label for=\"sk-estimator-id-1\" class=\"sk-toggleable__label sk-toggleable__label-arrow\">Pipeline</label><div class=\"sk-toggleable__content\"><pre>Pipeline(steps=[(&#x27;countvectorizer&#x27;,\n",
              "                 CountVectorizer(tokenizer=&lt;function &lt;lambda&gt; at 0x781dfabfb640&gt;)),\n",
              "                (&#x27;logisticregressioncv&#x27;, LogisticRegressionCV())])</pre></div></div></div><div class=\"sk-serial\"><div class=\"sk-item\"><div class=\"sk-estimator sk-toggleable\"><input class=\"sk-toggleable__control sk-hidden--visually\" id=\"sk-estimator-id-2\" type=\"checkbox\" ><label for=\"sk-estimator-id-2\" class=\"sk-toggleable__label sk-toggleable__label-arrow\">CountVectorizer</label><div class=\"sk-toggleable__content\"><pre>CountVectorizer(tokenizer=&lt;function &lt;lambda&gt; at 0x781dfabfb640&gt;)</pre></div></div></div><div class=\"sk-item\"><div class=\"sk-estimator sk-toggleable\"><input class=\"sk-toggleable__control sk-hidden--visually\" id=\"sk-estimator-id-3\" type=\"checkbox\" ><label for=\"sk-estimator-id-3\" class=\"sk-toggleable__label sk-toggleable__label-arrow\">LogisticRegressionCV</label><div class=\"sk-toggleable__content\"><pre>LogisticRegressionCV()</pre></div></div></div></div></div></div></div>"
            ]
          },
          "metadata": {},
          "execution_count": 11
        }
      ]
    },
    {
      "cell_type": "code",
      "metadata": {
        "id": "t9R1cpUv0fIp"
      },
      "source": [
        "from sklearn import metrics\n",
        "def print_report(pipe):\n",
        "    y_pred = pipe.predict(X_test)\n",
        "    report = metrics.classification_report(y_test, y_pred,\n",
        "        target_names=class_names)\n",
        "    cm= confusion_matrix(y_test, y_pred)\n",
        "    print(report)\n",
        "    print(cm)\n",
        "    print(\"accuracy: {:0.3f}\".format(metrics.accuracy_score(y_test, y_pred)))\n",
        "\n",
        "print_report(pipe)"
      ],
      "execution_count": null,
      "outputs": []
    },
    {
      "cell_type": "markdown",
      "source": [
        "###Model Explainability"
      ],
      "metadata": {
        "id": "wKXkcf3F2jUG"
      }
    },
    {
      "cell_type": "code",
      "metadata": {
        "id": "KMuqSIBWuEE0"
      },
      "source": [
        "!pip install eli5"
      ],
      "execution_count": null,
      "outputs": []
    },
    {
      "cell_type": "code",
      "metadata": {
        "id": "LlnuZyhQHpyO"
      },
      "source": [
        "import eli5\n",
        "eli5.show_weights(clf, top =(20,20),\n",
        "                  feature_names=vec.get_feature_names_out(),\n",
        "                  target_names=class_names)"
      ],
      "execution_count": null,
      "outputs": []
    },
    {
      "cell_type": "code",
      "metadata": {
        "colab": {
          "base_uri": "https://localhost:8080/"
        },
        "id": "oTEykwba0ssA",
        "outputId": "37e0992c-2ca4-4b0e-9656-4b60c6d59ca7"
      },
      "source": [
        "def print_prediction(doc):\n",
        "    y_pred = pipe.predict_proba([doc])[0]\n",
        "    for target, prob in zip(class_names, y_pred):\n",
        "        print(\"{:.3f} {}\".format(prob, target))\n",
        "\n",
        "doc = data.cleaned[2]\n",
        "print(doc)\n",
        "print_prediction(doc)"
      ],
      "execution_count": null,
      "outputs": [
        {
          "output_type": "stream",
          "name": "stdout",
          "text": [
            "দাদা তোমাকে খুব ভালোবাসি  সবসময় তোমার ভিডিও দেখি এবং খুব মজা পাই  তোমার পাগলা ফ্যান দাদা  বাংলাদেশ থেকে বলছি\n",
            "0.966 joy\n",
            "0.026 sadness\n",
            "0.005 surprise\n",
            "0.002 disgust\n",
            "0.001 anger\n",
            "0.000 fear\n"
          ]
        }
      ]
    },
    {
      "cell_type": "code",
      "source": [
        "eli5.show_prediction(clf, X_test.tolist()[0], vec=vec,feature_names=vec.get_feature_names_out(),\n",
        "                     target_names=class_names)"
      ],
      "metadata": {
        "id": "ExI108kO-qkL"
      },
      "execution_count": null,
      "outputs": []
    },
    {
      "cell_type": "markdown",
      "source": [
        "###Task\n",
        "\n",
        "**Classify a book review is positive or negative**\n",
        "\n"
      ],
      "metadata": {
        "id": "O-B7fs9Oo-r5"
      }
    },
    {
      "cell_type": "code",
      "source": [
        "!wget -O reviews.csv https://www.dropbox.com/s/k9q1zrdr26ycmhv/book-reviews.csv?dl=0"
      ],
      "metadata": {
        "id": "ckw46WOjTuqU"
      },
      "execution_count": null,
      "outputs": []
    },
    {
      "cell_type": "code",
      "metadata": {
        "id": "5weyzwKqpHXr"
      },
      "source": [
        "dataset = pd.read_csv(\"reviews.csv\")\n",
        "dataset"
      ],
      "execution_count": null,
      "outputs": []
    },
    {
      "cell_type": "code",
      "source": [
        "dataset.columns"
      ],
      "metadata": {
        "id": "BkorqcIpVw4l"
      },
      "execution_count": null,
      "outputs": []
    },
    {
      "cell_type": "markdown",
      "source": [
        "#**Segment 03: Deep Learning**"
      ],
      "metadata": {
        "id": "94SZy4cnd5O-"
      }
    },
    {
      "cell_type": "markdown",
      "source": [
        "<figure>\n",
        "<center>\n",
        "<img src='https://machinelearningknowledge.ai/wp-content/uploads/2019/06/Artificial-Neuron-Working.gif' />\n",
        "<figcaption> A Neuron</figcaption></center>\n",
        "</figure>\n",
        "\n",
        "<figure>\n",
        "<center>\n",
        "<img src='https://machinelearningknowledge.ai/wp-content/uploads/2019/10/Backpropagation.gif' />\n",
        "<figcaption> Neural Network Training Process </figcaption></center>\n",
        "</figure>\n",
        "\n",
        "\n",
        "**Objectives:**\n",
        "\n",
        "* Understand the Basics of Neural Network\n",
        "* Implement a Convolutional Neural Network"
      ],
      "metadata": {
        "id": "tYGjWnt3iugi"
      }
    },
    {
      "cell_type": "markdown",
      "source": [
        "**Project 1: Plant Leaf Disease Detection**"
      ],
      "metadata": {
        "id": "ihX2nIMWd8fx"
      }
    },
    {
      "cell_type": "markdown",
      "source": [
        "###Libraries"
      ],
      "metadata": {
        "id": "t8lBIhZReS9s"
      }
    },
    {
      "cell_type": "markdown",
      "source": [
        "<figure>\n",
        "<center>\n",
        "<img src='https://3.bp.blogspot.com/-QZVBl08fmPk/XhO909Ha1dI/AAAAAAAACZI/q1a1UykGKe0KDUZ_ZITtWmM7bBJFRrvPQCLcBGAsYHQ/s1600/tensorflowkeras.jpg' />\n",
        "</figure>"
      ],
      "metadata": {
        "id": "ZlcRzCznrgdC"
      }
    },
    {
      "cell_type": "code",
      "source": [
        "# Deep learning Librarires\n",
        "\n",
        "\n",
        "import tensorflow as tf\n",
        "from tensorflow import keras\n",
        "from keras.datasets import mnist\n",
        "from keras.layers import Input, Dense, Activation, Dropout, RandomRotation, RandomZoom\n",
        "from keras.layers import Conv2D, MaxPooling2D, Flatten, GlobalAveragePooling2D\n",
        "from keras.models import Model\n",
        "from tensorflow.keras.optimizers import Adam,SGD,Nadam,RMSprop\n",
        "from tensorflow.keras.models import load_model\n",
        "from tensorflow.keras.utils import to_categorical"
      ],
      "metadata": {
        "id": "jwd4QcbReVS7"
      },
      "execution_count": null,
      "outputs": []
    },
    {
      "cell_type": "markdown",
      "source": [
        "###Download the Dataset"
      ],
      "metadata": {
        "id": "_dyw734leDrY"
      }
    },
    {
      "cell_type": "code",
      "source": [
        "!wget -O Plant_Images.zip https://www.dropbox.com/s/w3i2anpmyvvuhxz/Plant_Images.zip?dl=0"
      ],
      "metadata": {
        "id": "AIQOMEXG7WDB"
      },
      "execution_count": null,
      "outputs": []
    },
    {
      "cell_type": "code",
      "source": [
        "# extract the zip file and save the files into bangla-digit folder\n",
        "import zipfile\n",
        "zip_ref = zipfile.ZipFile(\"Plant_Images.zip\", 'r')\n",
        "zip_ref.extractall(\"data\")\n",
        "zip_ref.close()"
      ],
      "metadata": {
        "id": "eIvTfnPF75jH"
      },
      "execution_count": null,
      "outputs": []
    },
    {
      "cell_type": "code",
      "source": [
        "import os\n",
        "path = '/content/data/Plant Disease/'\n",
        "categories = os.listdir(path)\n",
        "num_classes = len(categories)\n",
        "print(num_classes)"
      ],
      "metadata": {
        "id": "PZg0X4DX8MxP"
      },
      "execution_count": null,
      "outputs": []
    },
    {
      "cell_type": "code",
      "source": [
        "categories"
      ],
      "metadata": {
        "id": "xa5mQv5z8oDP"
      },
      "execution_count": null,
      "outputs": []
    },
    {
      "cell_type": "markdown",
      "source": [
        "##Split Train Test Split"
      ],
      "metadata": {
        "id": "pkIq8wyc-BxP"
      }
    },
    {
      "cell_type": "code",
      "source": [
        "train_data = tf.keras.preprocessing.image_dataset_from_directory(\n",
        "    path,\n",
        "    validation_split=0.2,\n",
        "    subset=\"training\",\n",
        "    seed=1337,\n",
        "    image_size=(100,100),\n",
        "    batch_size=32,\n",
        "    class_names=categories,\n",
        "    label_mode='categorical',\n",
        ")\n",
        "test_ds = tf.keras.preprocessing.image_dataset_from_directory(\n",
        "    path,\n",
        "    validation_split=0.2,\n",
        "    subset=\"validation\",\n",
        "    seed=1337,\n",
        "    image_size=(100,100),\n",
        "    batch_size=32,\n",
        "    class_names=categories,\n",
        "    label_mode='categorical',\n",
        ")"
      ],
      "metadata": {
        "id": "uWdUg6a-8wG_"
      },
      "execution_count": null,
      "outputs": []
    },
    {
      "cell_type": "code",
      "source": [
        "# Calculate the size of the validation set\n",
        "val_size = int(train_data.cardinality().numpy() * 0.2)\n",
        "# Split the dataset\n",
        "val_ds = train_data.take(val_size)\n",
        "train_ds = train_data.skip(val_size)\n",
        "\n",
        "print(val_size)\n",
        "print(int(train_ds.cardinality()))"
      ],
      "metadata": {
        "id": "Ute0es-FAxlV"
      },
      "execution_count": null,
      "outputs": []
    },
    {
      "cell_type": "code",
      "source": [
        "for images,targets in train_ds.take(1):\n",
        "  print(images)\n",
        "  print(targets)"
      ],
      "metadata": {
        "id": "q6VtaO18QVC6"
      },
      "execution_count": null,
      "outputs": []
    },
    {
      "cell_type": "markdown",
      "source": [
        "##Visualizaiton Samples"
      ],
      "metadata": {
        "id": "qkdUblm-9-sw"
      }
    },
    {
      "cell_type": "code",
      "source": [
        "import matplotlib.pyplot as plt\n",
        "\n",
        "plt.figure(figsize=(10, 7))\n",
        "for images, labels in train_ds.take(1):\n",
        "    for i in range(10):\n",
        "        ax = plt.subplot(3, 5, i + 1)\n",
        "        plt.imshow(images[i].numpy().astype(\"uint8\"))\n",
        "        plt.title(categories[np.argmax(labels[i])])\n",
        "        plt.axis(\"off\")"
      ],
      "metadata": {
        "id": "2tpLyBUy9jEH"
      },
      "execution_count": null,
      "outputs": []
    },
    {
      "cell_type": "code",
      "source": [
        "for i in categories:\n",
        "    directory = os.path.join(path, i)\n",
        "    print(\"Images of label \\\"\" + i + \"\\\":\\t\", len(os.listdir(directory)))"
      ],
      "metadata": {
        "id": "-zszxb9p92rC"
      },
      "execution_count": null,
      "outputs": []
    },
    {
      "cell_type": "markdown",
      "source": [
        "##CNN Model"
      ],
      "metadata": {
        "id": "VwBIjxfi-Rir"
      }
    },
    {
      "cell_type": "markdown",
      "source": [
        "<figure>\n",
        "<center>\n",
        "<img src='https://editor.analyticsvidhya.com/uploads/59954intro%20to%20CNN.JPG' />\n",
        "</figure>"
      ],
      "metadata": {
        "id": "IHcsHXUYk69J"
      }
    },
    {
      "cell_type": "code",
      "source": [
        "# Functional API\n",
        "\n",
        "num_classes = 4\n",
        "\n",
        "def model():\n",
        "    inputs = Input(shape=(100,100,3))\n",
        "    x = Conv2D(24, kernel_size=(3,3), padding='same', activation=\"relu\")(inputs)\n",
        "    x = MaxPooling2D(pool_size=(2, 2))(x)\n",
        "    x = Conv2D(48, (3, 3), padding='same', activation='relu')(x)\n",
        "    x = MaxPooling2D(pool_size=(2, 2))(x)\n",
        "    x = Conv2D(64, (3, 3), padding='same',activation='relu')(x)\n",
        "    x = MaxPooling2D(pool_size=(2, 2))(x)\n",
        "    x = Flatten()(x)\n",
        "    x = Dense(128, activation='relu')(x)\n",
        "    x = Dropout(0.25)(x)\n",
        "    output = Dense(num_classes, activation=\"softmax\")(x)\n",
        "\n",
        "    model = Model(inputs,output)\n",
        "\n",
        "    model.compile(loss='categorical_crossentropy',\n",
        "              optimizer='adam',\n",
        "              metrics=['accuracy'])\n",
        "\n",
        "    return model"
      ],
      "metadata": {
        "id": "jNDj-Dh0-Ris"
      },
      "execution_count": null,
      "outputs": []
    },
    {
      "cell_type": "code",
      "source": [
        "cnn = model()\n",
        "#cnn.summary()"
      ],
      "metadata": {
        "id": "OknZrLff-Ris"
      },
      "execution_count": null,
      "outputs": []
    },
    {
      "cell_type": "markdown",
      "source": [
        "##Training"
      ],
      "metadata": {
        "id": "RLnJ-SOc-Rit"
      }
    },
    {
      "cell_type": "code",
      "source": [
        "keras.backend.clear_session()\n",
        "\n",
        "  # Saved the Best Model\n",
        "filepath = \"mymodel_disease.h5\"\n",
        "checkpoint = keras.callbacks.ModelCheckpoint(filepath, monitor='val_accuracy', verbose=2, save_best_only=True,\n",
        "                                             save_weights_only=False, mode='max')\n",
        "  # callback list\n",
        "callback_list = [checkpoint]\n"
      ],
      "metadata": {
        "id": "KVe9WHQz-Rit"
      },
      "execution_count": null,
      "outputs": []
    },
    {
      "cell_type": "code",
      "source": [
        "history = cnn.fit(train_ds, batch_size=32, epochs=10, validation_data = val_ds, callbacks = callback_list)\n"
      ],
      "metadata": {
        "id": "wFc2qBvZ-Riu"
      },
      "execution_count": null,
      "outputs": []
    },
    {
      "cell_type": "code",
      "source": [
        "# Recreate the exact same model purely from the file:\n",
        "model = load_model(\"mymodel_disease.h5\")"
      ],
      "metadata": {
        "id": "nZaoiVl0-Riu"
      },
      "execution_count": null,
      "outputs": []
    },
    {
      "cell_type": "markdown",
      "source": [
        "##Evaluation"
      ],
      "metadata": {
        "id": "Oz94sFwpQHPB"
      }
    },
    {
      "cell_type": "code",
      "source": [
        "score = model.evaluate(test_ds, verbose = 0)\n",
        "print('Test accuracy:', score[1])"
      ],
      "metadata": {
        "colab": {
          "base_uri": "https://localhost:8080/"
        },
        "id": "skSO6XP2EAu8",
        "outputId": "1c015f04-789e-49a8-d925-ad845ce041cc"
      },
      "execution_count": null,
      "outputs": [
        {
          "output_type": "stream",
          "name": "stdout",
          "text": [
            "Test accuracy: 0.8458781242370605\n"
          ]
        }
      ]
    },
    {
      "cell_type": "code",
      "source": [
        "def pred(model):\n",
        "    y_val = []\n",
        "    y_val_pred = []\n",
        "    for images, targets in test_ds:\n",
        "        for image, target in zip(images, targets):\n",
        "            img_array = image.numpy().astype(\"uint8\")\n",
        "            prediction = model.predict(np.array([img_array]))\n",
        "            y_val_pred.append(np.argmax(prediction))\n",
        "            y_val.append(np.argmax(target))\n",
        "\n",
        "    return y_val, y_val_pred"
      ],
      "metadata": {
        "id": "I6m6iiwiMA0n"
      },
      "execution_count": null,
      "outputs": []
    },
    {
      "cell_type": "code",
      "source": [
        "y_val, y_val_pred=pred(cnn)"
      ],
      "metadata": {
        "id": "d2mxVEi8MFqt"
      },
      "execution_count": null,
      "outputs": []
    },
    {
      "cell_type": "code",
      "source": [
        "cm = confusion_matrix(y_val, y_val_pred)\n",
        "cm"
      ],
      "metadata": {
        "id": "jsVrJePwMgjB"
      },
      "execution_count": null,
      "outputs": []
    },
    {
      "cell_type": "code",
      "source": [
        "print(classification_report(y_val, y_val_pred,target_names =categories ))"
      ],
      "metadata": {
        "colab": {
          "base_uri": "https://localhost:8080/"
        },
        "id": "5N4YHca0G0UN",
        "outputId": "36874677-5ffc-49b6-8df5-a9d2038ed1a2"
      },
      "execution_count": null,
      "outputs": [
        {
          "output_type": "stream",
          "name": "stdout",
          "text": [
            "                precision    recall  f1-score   support\n",
            "\n",
            "   Common_Rust       0.93      0.90      0.92       265\n",
            "        Blight       0.69      0.86      0.77       221\n",
            "       Healthy       0.96      1.00      0.98       232\n",
            "Gray_Leaf_Spot       0.69      0.38      0.49       119\n",
            "\n",
            "      accuracy                           0.84       837\n",
            "     macro avg       0.82      0.78      0.79       837\n",
            "  weighted avg       0.84      0.84      0.83       837\n",
            "\n"
          ]
        }
      ]
    },
    {
      "cell_type": "markdown",
      "source": [
        "**Plot some test samples with predictions**"
      ],
      "metadata": {
        "id": "6lwJeDyciYbU"
      }
    },
    {
      "cell_type": "code",
      "execution_count": null,
      "metadata": {
        "id": "bjmpYZuqnmnG"
      },
      "outputs": [],
      "source": [
        "# Define a function to decode one-hot encoded targets\n",
        "def decode_targets(targets):\n",
        "    return [categories[i] for i in tf.argmax(targets, axis=1)]\n",
        "\n",
        "# Iterate through the test dataset and make predictions\n",
        "for images, targets in test_ds.take(1):  # Take one batch from the test dataset\n",
        "    predictions = model.predict(images)  # Make predictions using the model\n",
        "\n",
        "# Plot the images along with predicted and actual class labels\n",
        "plt.figure(figsize=(10, 10))\n",
        "for i in range(9):  # Plot the first 9 images\n",
        "    ax = plt.subplot(3, 3, i + 1)\n",
        "    plt.imshow(images[i].numpy().astype(\"uint8\"))\n",
        "    predicted_label = categories[np.argmax(predictions[i])]\n",
        "    actual_label = decode_targets(tf.expand_dims(targets[i], 0))[0]\n",
        "    plt.title(f'Predicted: {predicted_label}, \\nActual: {actual_label}')\n",
        "    plt.axis(\"off\")\n",
        "plt.show()"
      ]
    },
    {
      "cell_type": "markdown",
      "source": [
        "###Tasks"
      ],
      "metadata": {
        "id": "N8wfg9IUp28b"
      }
    },
    {
      "cell_type": "markdown",
      "source": [
        "**Task 1: Weather Classification**"
      ],
      "metadata": {
        "id": "FrpeoEnRedsC"
      }
    },
    {
      "cell_type": "code",
      "source": [
        "!wget -O weather.zip https://www.dropbox.com/s/c833cgkdfuook1l/Weather-dataset.zip?dl=0"
      ],
      "metadata": {
        "id": "_CWzBMdDehff"
      },
      "execution_count": null,
      "outputs": []
    },
    {
      "cell_type": "markdown",
      "source": [
        "**Task 2: Disaster Identification**"
      ],
      "metadata": {
        "id": "DTcOKemaEC7f"
      }
    },
    {
      "cell_type": "code",
      "source": [
        "https://www.kaggle.com/datasets/rupakroy/cyclone-wildfire-flood-earthquake-database"
      ],
      "metadata": {
        "id": "3RrNWEeTEDWX"
      },
      "execution_count": null,
      "outputs": []
    },
    {
      "cell_type": "markdown",
      "source": [
        "**Task 3: Human Action Recognition**"
      ],
      "metadata": {
        "id": "S37KGQ2TE1SH"
      }
    },
    {
      "cell_type": "code",
      "source": [
        "https://www.kaggle.com/datasets/meetnagadia/human-action-recognition-har-dataset"
      ],
      "metadata": {
        "id": "kZrwqmriEzfo"
      },
      "execution_count": null,
      "outputs": []
    },
    {
      "cell_type": "markdown",
      "source": [
        "\n",
        "\n",
        "<figure>\n",
        "<center>\n",
        "<img src='https://scontent.fdac146-1.fna.fbcdn.net/v/t39.30808-6/326747243_487256623606989_8227923502097820546_n.jpg?_nc_cat=103&ccb=1-7&_nc_sid=efb6e6&_nc_ohc=JyN1z-MYpSsAX8hOkaY&_nc_ht=scontent.fdac146-1.fna&oh=00_AfBVF85FYCqJNOTQrDc3wEoVt2ERu1AarpiaPYrjrQMTyQ&oe=65DDEBBD' width='400' height='300'/>\n",
        "</figure>"
      ],
      "metadata": {
        "id": "fk5Cwi2hqadf"
      }
    }
  ]
}